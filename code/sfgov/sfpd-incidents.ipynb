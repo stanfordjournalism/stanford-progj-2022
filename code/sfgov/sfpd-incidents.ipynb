{
 "cells": [
  {
   "cell_type": "markdown",
   "metadata": {},
   "source": [
    "# SF Police Incidents\n",
    "\n",
    "A short demo analysis using [SF police incidents data](https://data.sfgov.org/Public-Safety/Police-Department-Incident-Reports-2018-to-Present/wg3w-h783) from 2018 to present (early 2019 at time of writing).\n",
    "\n",
    "In this demo, we'll cover some typical steps in the exploratory data analysis process. We'll start by leveling up on the data and some basic data quality checks, and then move on to analyzing a subset of incidents.\n",
    "\n",
    "A critical first step in any analysis involves searching for and reviewing background material such as a data dictionary. It may also require phone calls to source agencies and experts who can help you make sense of the data. \n",
    "\n",
    "A review of the [data dictionary for the police incidents](https://bit.ly/2x7Ta2P) reveals that this data can be tricky to work with. The documentation states that each incident can have multiple records, one for each type of infraction reported:\n",
    "\n",
    "> For example, an officer may have a warrant for an arrest\n",
    "and while making the arrest discovers narcotics in the individual’s possession. The officer would record an incident code for the warrant as well as the discovery of narcotics.\n",
    "\n",
    "Further, the data contains supplemental reports that correct or update initial reports. For these reasons, careful handling would be required to avoid over-counting incidents.\n",
    "\n",
    "This example analysis sidesteps these issues by focusing on a subset of data without duplicate records (see below for related data vetting)."
   ]
  },
  {
   "cell_type": "markdown",
   "metadata": {},
   "source": [
    "## Data import\n",
    "\n",
    "The SFPD data can be downloaded by clicking `Export` and grabbing the link for a plain-old `CSV`:\n",
    "\n",
    "![export-csv](img/download_data.png)\n"
   ]
  },
  {
   "cell_type": "code",
   "execution_count": 1,
   "metadata": {},
   "outputs": [],
   "source": [
    "from datetime import datetime as dt\n",
    "import pandas as pd\n",
    "%matplotlib inline"
   ]
  },
  {
   "cell_type": "markdown",
   "metadata": {},
   "source": [
    "We could read the data directly from the web using code such as below:\n",
    "\n",
    "```\n",
    "csv_url = 'https://data.sfgov.org/api/views/wg3w-h783/rows.csv?accessType=DOWNLOAD'\n",
    "incidents = pd.read_csv(csv_url)\n",
    "```\n",
    "\n",
    "But let's be kind to the `sfgov.org` servers and read from a locally saved copy. Also, it's important to save a version of the data at the point in time the analysis was performed."
   ]
  },
  {
   "cell_type": "code",
   "execution_count": 3,
   "metadata": {},
   "outputs": [],
   "source": [
    "# Note we use the parse_dates parameter to convert the \n",
    "# date field values to datetime objects\n",
    "local_file = 'data/sfpd_incidents_2018_to_present_20190228.csv'\n",
    "incidents = pd.read_csv(local_file, parse_dates=['Report Datetime', 'Incident Date', 'Incident Datetime'])"
   ]
  },
  {
   "cell_type": "code",
   "execution_count": 4,
   "metadata": {},
   "outputs": [],
   "source": [
    "# Make columns snake_case to simplify downstream code\n",
    "incidents.columns = [col.lower().replace(' ', '_') for col in incidents.columns]"
   ]
  },
  {
   "cell_type": "markdown",
   "metadata": {},
   "source": [
    "## Getting acquainted with the data\n",
    "\n",
    "Let's get acquainted with the columns using `info()`. \n",
    "\n",
    "At first glance, this a nicely structured dataset with lots of metadata to support a variety of analyses. A few that jump out are the incident category/subcategory fields, date and time-based fields, and geography-oriented fields:\n",
    "\n",
    "* incident_category\n",
    "* incident_subcategory\n",
    "* incident_date\n",
    "* incident_day_of_week\n",
    "* police_district\n",
    "* latitude\n",
    "* longitude\n",
    "* point"
   ]
  },
  {
   "cell_type": "code",
   "execution_count": 5,
   "metadata": {
    "scrolled": false
   },
   "outputs": [
    {
     "name": "stdout",
     "output_type": "stream",
     "text": [
      "<class 'pandas.core.frame.DataFrame'>\n",
      "RangeIndex: 176242 entries, 0 to 176241\n",
      "Data columns (total 26 columns):\n",
      "incident_datetime          176242 non-null datetime64[ns]\n",
      "incident_date              176242 non-null datetime64[ns]\n",
      "incident_time              176242 non-null object\n",
      "incident_year              176242 non-null int64\n",
      "incident_day_of_week       176242 non-null object\n",
      "report_datetime            176242 non-null datetime64[ns]\n",
      "row_id                     176242 non-null int64\n",
      "incident_id                176242 non-null int64\n",
      "incident_number            176242 non-null int64\n",
      "cad_number                 135931 non-null float64\n",
      "report_type_code           176242 non-null object\n",
      "report_type_description    176242 non-null object\n",
      "filed_online               37841 non-null object\n",
      "incident_code              176242 non-null int64\n",
      "incident_category          176225 non-null object\n",
      "incident_subcategory       176225 non-null object\n",
      "incident_description       176242 non-null object\n",
      "resolution                 176242 non-null object\n",
      "intersection               167341 non-null object\n",
      "cnn                        167341 non-null float64\n",
      "police_district            176242 non-null object\n",
      "analysis_neighborhood      167285 non-null object\n",
      "supervisor_district        167341 non-null float64\n",
      "latitude                   167341 non-null float64\n",
      "longitude                  167341 non-null float64\n",
      "point                      167341 non-null object\n",
      "dtypes: datetime64[ns](3), float64(5), int64(5), object(13)\n",
      "memory usage: 35.0+ MB\n"
     ]
    }
   ],
   "source": [
    "incidents.info()"
   ]
  },
  {
   "cell_type": "markdown",
   "metadata": {},
   "source": [
    "## Data vetting\n",
    "\n",
    "Before diving into analysis, we need to do some preliminary data quality checks. Dirty data [comes in many flavors](https://github.com/Quartz/bad-data-guide). A few key questions to always ask:\n",
    "\n",
    "* Are there any missing or malformed values?\n",
    "* Are there any unexpected values?\n",
    "* Are there duplicate records?\n",
    "\n",
    "These questions often must be investigated multiple times: once for the full data set, and then again for analyses focusing on subsets of data.\n",
    "\n",
    "It's quite common to have some dirty data in a large data set. But if the dirty records clearly have no bearing on the subset of data that you're targeting, it could be safe to ignore those records. Or perhaps these records are relevant to your analysis, but you determine it is possible to correct them in consultation with the source agency.\n",
    "\n",
    "Dirty data is a fact of life, but we can't let it put us into a state of \"analysis paralysis.\" With careful and methodical data vetting, we can avoid landmines and make informed decisions about when it's safe to fix or work around dirty data."
   ]
  },
  {
   "cell_type": "markdown",
   "metadata": {},
   "source": [
    "### Incident date vetting\n",
    "\n",
    "We mentioned earlier that incident dates will be important in our analysis. Let's do some basic sanity checking on the `incident_date` field.\n",
    "\n",
    "> Note that this field was originally a string in the format YYYY/MM/DD. We \n",
    "> automatically converted it upon import using the `parse_dates` parameter for [read_csv](http://pandas-docs.github.io/pandas-docs-travis/reference/api/pandas.read_csv.html#pandas-read-csv)."
   ]
  },
  {
   "cell_type": "code",
   "execution_count": 7,
   "metadata": {},
   "outputs": [
    {
     "data": {
      "text/plain": [
       "count                  176242\n",
       "unique                    423\n",
       "top       2018-08-01 00:00:00\n",
       "freq                      543\n",
       "first     2018-01-01 00:00:00\n",
       "last      2019-02-27 00:00:00\n",
       "Name: incident_date, dtype: object"
      ]
     },
     "execution_count": 7,
     "metadata": {},
     "output_type": "execute_result"
    }
   ],
   "source": [
    "incidents.incident_date.describe()"
   ]
  },
  {
   "cell_type": "markdown",
   "metadata": {},
   "source": [
    "All records appear to have dates and fall within the expected range of 2018 and early 2019.\n",
    "\n",
    "When we later analyze incidents by day of week, we'll need the ability to sort them correctly. The existing `incident_day_of_week` column is a string, and will be useful as a readable label for grouping and charting purposes, but because it's a plain string, we will not be able to use it to sort the days correctly.\n",
    "\n",
    "Below we'll add a new column to the data to store the number for the day of week. This can be derived from the `incident_date`, which contains datetime objects. These datetimes have a handy [weekday method](https://docs.python.org/3/library/datetime.html#datetime.date.weekday) that returns an integer for the day of the week. We'll use the DataFrame's [apply method](https://pandas.pydata.org/pandas-docs/stable/reference/api/pandas.DataFrame.apply.html#pandas-dataframe-apply) to add the new column, in a similar fashion to the [example](http://www.firstpythonnotebook.org/cleaning/index.html#chapter-16-hello-cleaning) from the First Python Notebook."
   ]
  },
  {
   "cell_type": "code",
   "execution_count": 8,
   "metadata": {},
   "outputs": [],
   "source": [
    "# Add numeric day of week column to all records for sorting purposes\n",
    "incidents['daynum'] = incidents.incident_date.apply(lambda x: x.weekday())"
   ]
  },
  {
   "cell_type": "markdown",
   "metadata": {},
   "source": [
    "### Category/Subcategory Vetting\n",
    "\n",
    "We got an overall record count earlier when we ran `incidents.info()`. Let's compare that number to the count of records with category and subcategory information.\n"
   ]
  },
  {
   "cell_type": "code",
   "execution_count": 9,
   "metadata": {
    "scrolled": true
   },
   "outputs": [
    {
     "data": {
      "text/html": [
       "<div>\n",
       "<style scoped>\n",
       "    .dataframe tbody tr th:only-of-type {\n",
       "        vertical-align: middle;\n",
       "    }\n",
       "\n",
       "    .dataframe tbody tr th {\n",
       "        vertical-align: top;\n",
       "    }\n",
       "\n",
       "    .dataframe thead th {\n",
       "        text-align: right;\n",
       "    }\n",
       "</style>\n",
       "<table border=\"1\" class=\"dataframe\">\n",
       "  <thead>\n",
       "    <tr style=\"text-align: right;\">\n",
       "      <th></th>\n",
       "      <th>incident_category</th>\n",
       "      <th>incident_subcategory</th>\n",
       "    </tr>\n",
       "  </thead>\n",
       "  <tbody>\n",
       "    <tr>\n",
       "      <th>count</th>\n",
       "      <td>176225</td>\n",
       "      <td>176225</td>\n",
       "    </tr>\n",
       "    <tr>\n",
       "      <th>unique</th>\n",
       "      <td>50</td>\n",
       "      <td>75</td>\n",
       "    </tr>\n",
       "    <tr>\n",
       "      <th>top</th>\n",
       "      <td>Larceny Theft</td>\n",
       "      <td>Larceny - From Vehicle</td>\n",
       "    </tr>\n",
       "    <tr>\n",
       "      <th>freq</th>\n",
       "      <td>55071</td>\n",
       "      <td>32077</td>\n",
       "    </tr>\n",
       "  </tbody>\n",
       "</table>\n",
       "</div>"
      ],
      "text/plain": [
       "       incident_category    incident_subcategory\n",
       "count             176225                  176225\n",
       "unique                50                      75\n",
       "top        Larceny Theft  Larceny - From Vehicle\n",
       "freq               55071                   32077"
      ]
     },
     "execution_count": 9,
     "metadata": {},
     "output_type": "execute_result"
    }
   ],
   "source": [
    "incidents[['incident_category', 'incident_subcategory']].describe()"
   ]
  },
  {
   "cell_type": "markdown",
   "metadata": {},
   "source": [
    "Twenty or so records in our overall data set are missing category/subcategory labels. This small number likely won't affect statistics on the full data set, but it could lead to incorrect conclusions such as an undercount or incorrect ranking when dealing with categories that have smaller incident counts. \n",
    "\n",
    "In a real project, we'd want to examine these records when dealing with small subsets of data to see if they can be safely ignored or properly labeled. \n",
    "\n",
    "We'd also want to thoroughly review the full list of categories/subcategories to guard against cases of misspellings or similar incident types that should be merged for the purpose of aggregation.\n",
    "\n",
    "Here is some example code that could be used to get the full list of categories/subcategories:\n",
    "\n",
    "```\n",
    "incidents.groupby([\"incident_category\",\"incident_subcategory\"]).row_id.count().reset_index().sort_values([\"incident_category\", \"incident_subcategory\"])\n",
    "```"
   ]
  },
  {
   "cell_type": "markdown",
   "metadata": {},
   "source": [
    "## Drunkenness by Police District\n",
    "\n",
    "Let's say that we've explored the full list of categories and subcategories, and decided to analyze the `Drunkenness` subcategory, starting with a breakdown of incidents by police district."
   ]
  },
  {
   "cell_type": "markdown",
   "metadata": {},
   "source": [
    "### Data vetting\n",
    "\n",
    "Step one involves a few quick sanity checks on the `police_district` field."
   ]
  },
  {
   "cell_type": "code",
   "execution_count": 10,
   "metadata": {},
   "outputs": [
    {
     "data": {
      "text/plain": [
       "count      176242\n",
       "unique         11\n",
       "top       Central\n",
       "freq        28184\n",
       "Name: police_district, dtype: object"
      ]
     },
     "execution_count": 10,
     "metadata": {},
     "output_type": "execute_result"
    }
   ],
   "source": [
    "# Verify all records have a police district value\n",
    "incidents.police_district.describe()"
   ]
  },
  {
   "cell_type": "code",
   "execution_count": 11,
   "metadata": {},
   "outputs": [
    {
     "data": {
      "text/plain": [
       "['Northern',\n",
       " 'Taraval',\n",
       " 'Southern',\n",
       " 'Richmond',\n",
       " 'Mission',\n",
       " 'Tenderloin',\n",
       " 'Ingleside',\n",
       " 'Central',\n",
       " 'Bayview',\n",
       " 'Park',\n",
       " 'Out of SF']"
      ]
     },
     "execution_count": 11,
     "metadata": {},
     "output_type": "execute_result"
    }
   ],
   "source": [
    "# List all police districts\n",
    "districts = list(incidents.police_district.unique())\n",
    "districts"
   ]
  },
  {
   "cell_type": "code",
   "execution_count": 12,
   "metadata": {},
   "outputs": [
    {
     "data": {
      "text/plain": [
       "11"
      ]
     },
     "execution_count": 12,
     "metadata": {},
     "output_type": "execute_result"
    }
   ],
   "source": [
    "len(districts)"
   ]
  },
  {
   "cell_type": "markdown",
   "metadata": {},
   "source": [
    "All records have a value for the `police_district` field and there are 11 districts. One of these -- `Out of SF` -- is worth digging into further, especially if we plan to generate aggregate statistics for the full dataset. We will ignore this district for now, however, since there are no drunkenness incidents associated with this district (see below).  "
   ]
  },
  {
   "cell_type": "markdown",
   "metadata": {},
   "source": [
    "### District analysis\n",
    "\n",
    "Now we're ready to begin the analysis. Let's focus the analysis on records from 2018 -- the one full year of data -- and filter out the drunkenness incidents."
   ]
  },
  {
   "cell_type": "code",
   "execution_count": 13,
   "metadata": {},
   "outputs": [],
   "source": [
    "incidents_2018 = incidents[(incidents.incident_date >= '2018-01-01') & (incidents.incident_date <= '2018-12-31')]"
   ]
  },
  {
   "cell_type": "code",
   "execution_count": 14,
   "metadata": {},
   "outputs": [],
   "source": [
    "# Filter the drunk records\n",
    "drunk = incidents_2018[incidents_2018.incident_subcategory == 'Drunkenness']"
   ]
  },
  {
   "cell_type": "markdown",
   "metadata": {},
   "source": [
    "#### More Data Vetting\n",
    "\n",
    "At the top we mentioned the possibility of multiple/duplicate records per incident. Let's check to make sure that this subset of data does not contain duplicates. \n",
    "\n",
    "The below query [groups](http://www.firstpythonnotebook.org/groupby/index.html) records by `incident_id`, then [filters](http://pandas.pydata.org/pandas-docs/stable/user_guide/groupby.html#filtration) for any groups with a count that is greater than one."
   ]
  },
  {
   "cell_type": "code",
   "execution_count": 18,
   "metadata": {},
   "outputs": [
    {
     "data": {
      "text/html": [
       "<div>\n",
       "<style scoped>\n",
       "    .dataframe tbody tr th:only-of-type {\n",
       "        vertical-align: middle;\n",
       "    }\n",
       "\n",
       "    .dataframe tbody tr th {\n",
       "        vertical-align: top;\n",
       "    }\n",
       "\n",
       "    .dataframe thead th {\n",
       "        text-align: right;\n",
       "    }\n",
       "</style>\n",
       "<table border=\"1\" class=\"dataframe\">\n",
       "  <thead>\n",
       "    <tr style=\"text-align: right;\">\n",
       "      <th></th>\n",
       "      <th>incident_datetime</th>\n",
       "      <th>incident_date</th>\n",
       "      <th>incident_time</th>\n",
       "      <th>incident_year</th>\n",
       "      <th>incident_day_of_week</th>\n",
       "      <th>report_datetime</th>\n",
       "      <th>row_id</th>\n",
       "      <th>incident_id</th>\n",
       "      <th>incident_number</th>\n",
       "      <th>cad_number</th>\n",
       "      <th>...</th>\n",
       "      <th>resolution</th>\n",
       "      <th>intersection</th>\n",
       "      <th>cnn</th>\n",
       "      <th>police_district</th>\n",
       "      <th>analysis_neighborhood</th>\n",
       "      <th>supervisor_district</th>\n",
       "      <th>latitude</th>\n",
       "      <th>longitude</th>\n",
       "      <th>point</th>\n",
       "      <th>daynum</th>\n",
       "    </tr>\n",
       "  </thead>\n",
       "  <tbody>\n",
       "  </tbody>\n",
       "</table>\n",
       "<p>0 rows × 27 columns</p>\n",
       "</div>"
      ],
      "text/plain": [
       "Empty DataFrame\n",
       "Columns: [incident_datetime, incident_date, incident_time, incident_year, incident_day_of_week, report_datetime, row_id, incident_id, incident_number, cad_number, report_type_code, report_type_description, filed_online, incident_code, incident_category, incident_subcategory, incident_description, resolution, intersection, cnn, police_district, analysis_neighborhood, supervisor_district, latitude, longitude, point, daynum]\n",
       "Index: []\n",
       "\n",
       "[0 rows x 27 columns]"
      ]
     },
     "execution_count": 18,
     "metadata": {},
     "output_type": "execute_result"
    }
   ],
   "source": [
    "drunk.groupby(by='incident_id').filter(lambda x: len(x) > 1)"
   ]
  },
  {
   "cell_type": "markdown",
   "metadata": {},
   "source": [
    "The above query should return an empty DataFrame, indicating that all `drunkenness` incidents are unique.\n",
    "\n",
    "Before moving on to the district analysis, let's do one final data check on the `row_id` field.  This should be a unique value for each row, according to the [data dictionary](https://bit.ly/2x7Ta2P), so it will be useful for aggregation. Let's verify that `row_id` contains unique values and is present on all fields. Otherwise we risk generating incorrect counts. The number we get should match the overall record count."
   ]
  },
  {
   "cell_type": "code",
   "execution_count": 19,
   "metadata": {},
   "outputs": [
    {
     "data": {
      "text/plain": [
       "176242"
      ]
     },
     "execution_count": 19,
     "metadata": {},
     "output_type": "execute_result"
    }
   ],
   "source": [
    "incidents.row_id.nunique()"
   ]
  },
  {
   "cell_type": "markdown",
   "metadata": {},
   "source": [
    "The `row_id` column appears to be a unique value present on all rows. Let's proceed with a [groupby](http://www.firstpythonnotebook.org/groupby/index.html) operation to see which police districts have the highest number of `drunkenness` incident counts."
   ]
  },
  {
   "cell_type": "code",
   "execution_count": 20,
   "metadata": {},
   "outputs": [
    {
     "data": {
      "text/html": [
       "<div>\n",
       "<style scoped>\n",
       "    .dataframe tbody tr th:only-of-type {\n",
       "        vertical-align: middle;\n",
       "    }\n",
       "\n",
       "    .dataframe tbody tr th {\n",
       "        vertical-align: top;\n",
       "    }\n",
       "\n",
       "    .dataframe thead th {\n",
       "        text-align: right;\n",
       "    }\n",
       "</style>\n",
       "<table border=\"1\" class=\"dataframe\">\n",
       "  <thead>\n",
       "    <tr style=\"text-align: right;\">\n",
       "      <th></th>\n",
       "      <th>police_district</th>\n",
       "      <th>row_id</th>\n",
       "    </tr>\n",
       "  </thead>\n",
       "  <tbody>\n",
       "    <tr>\n",
       "      <th>3</th>\n",
       "      <td>Mission</td>\n",
       "      <td>77</td>\n",
       "    </tr>\n",
       "    <tr>\n",
       "      <th>1</th>\n",
       "      <td>Central</td>\n",
       "      <td>47</td>\n",
       "    </tr>\n",
       "    <tr>\n",
       "      <th>7</th>\n",
       "      <td>Southern</td>\n",
       "      <td>45</td>\n",
       "    </tr>\n",
       "    <tr>\n",
       "      <th>4</th>\n",
       "      <td>Northern</td>\n",
       "      <td>31</td>\n",
       "    </tr>\n",
       "    <tr>\n",
       "      <th>9</th>\n",
       "      <td>Tenderloin</td>\n",
       "      <td>27</td>\n",
       "    </tr>\n",
       "    <tr>\n",
       "      <th>8</th>\n",
       "      <td>Taraval</td>\n",
       "      <td>17</td>\n",
       "    </tr>\n",
       "    <tr>\n",
       "      <th>2</th>\n",
       "      <td>Ingleside</td>\n",
       "      <td>14</td>\n",
       "    </tr>\n",
       "    <tr>\n",
       "      <th>5</th>\n",
       "      <td>Park</td>\n",
       "      <td>11</td>\n",
       "    </tr>\n",
       "    <tr>\n",
       "      <th>6</th>\n",
       "      <td>Richmond</td>\n",
       "      <td>11</td>\n",
       "    </tr>\n",
       "    <tr>\n",
       "      <th>0</th>\n",
       "      <td>Bayview</td>\n",
       "      <td>9</td>\n",
       "    </tr>\n",
       "  </tbody>\n",
       "</table>\n",
       "</div>"
      ],
      "text/plain": [
       "  police_district  row_id\n",
       "3         Mission      77\n",
       "1         Central      47\n",
       "7        Southern      45\n",
       "4        Northern      31\n",
       "9      Tenderloin      27\n",
       "8         Taraval      17\n",
       "2       Ingleside      14\n",
       "5            Park      11\n",
       "6        Richmond      11\n",
       "0         Bayview       9"
      ]
     },
     "execution_count": 20,
     "metadata": {},
     "output_type": "execute_result"
    }
   ],
   "source": [
    "pd_grouped = drunk.groupby(by=\"police_district\").row_id.count().reset_index().sort_values(\"row_id\", ascending=False)\n",
    "pd_grouped"
   ]
  },
  {
   "cell_type": "markdown",
   "metadata": {},
   "source": [
    "Let's also calculate the percentage of drunkenness incidents that occurred in each district.\n",
    "\n",
    "We'll create a [lambda function](https://docs.python.org/3/tutorial/controlflow.html#lambda-expressions) to calculate the percentage for each row, and then [apply](https://pandas.pydata.org/pandas-docs/stable/reference/api/pandas.DataFrame.apply.html#pandas-dataframe-apply) it in a similar fashion to the [example](http://www.firstpythonnotebook.org/cleaning/index.html#chapter-16-hello-cleaning) from the First Python Notebook."
   ]
  },
  {
   "cell_type": "code",
   "execution_count": 21,
   "metadata": {},
   "outputs": [
    {
     "data": {
      "text/html": [
       "<div>\n",
       "<style scoped>\n",
       "    .dataframe tbody tr th:only-of-type {\n",
       "        vertical-align: middle;\n",
       "    }\n",
       "\n",
       "    .dataframe tbody tr th {\n",
       "        vertical-align: top;\n",
       "    }\n",
       "\n",
       "    .dataframe thead th {\n",
       "        text-align: right;\n",
       "    }\n",
       "</style>\n",
       "<table border=\"1\" class=\"dataframe\">\n",
       "  <thead>\n",
       "    <tr style=\"text-align: right;\">\n",
       "      <th></th>\n",
       "      <th>police_district</th>\n",
       "      <th>row_id</th>\n",
       "      <th>pct</th>\n",
       "    </tr>\n",
       "  </thead>\n",
       "  <tbody>\n",
       "    <tr>\n",
       "      <th>3</th>\n",
       "      <td>Mission</td>\n",
       "      <td>77</td>\n",
       "      <td>26.643599</td>\n",
       "    </tr>\n",
       "    <tr>\n",
       "      <th>1</th>\n",
       "      <td>Central</td>\n",
       "      <td>47</td>\n",
       "      <td>16.262976</td>\n",
       "    </tr>\n",
       "    <tr>\n",
       "      <th>7</th>\n",
       "      <td>Southern</td>\n",
       "      <td>45</td>\n",
       "      <td>15.570934</td>\n",
       "    </tr>\n",
       "    <tr>\n",
       "      <th>4</th>\n",
       "      <td>Northern</td>\n",
       "      <td>31</td>\n",
       "      <td>10.726644</td>\n",
       "    </tr>\n",
       "    <tr>\n",
       "      <th>9</th>\n",
       "      <td>Tenderloin</td>\n",
       "      <td>27</td>\n",
       "      <td>9.342561</td>\n",
       "    </tr>\n",
       "    <tr>\n",
       "      <th>8</th>\n",
       "      <td>Taraval</td>\n",
       "      <td>17</td>\n",
       "      <td>5.882353</td>\n",
       "    </tr>\n",
       "    <tr>\n",
       "      <th>2</th>\n",
       "      <td>Ingleside</td>\n",
       "      <td>14</td>\n",
       "      <td>4.844291</td>\n",
       "    </tr>\n",
       "    <tr>\n",
       "      <th>5</th>\n",
       "      <td>Park</td>\n",
       "      <td>11</td>\n",
       "      <td>3.806228</td>\n",
       "    </tr>\n",
       "    <tr>\n",
       "      <th>6</th>\n",
       "      <td>Richmond</td>\n",
       "      <td>11</td>\n",
       "      <td>3.806228</td>\n",
       "    </tr>\n",
       "    <tr>\n",
       "      <th>0</th>\n",
       "      <td>Bayview</td>\n",
       "      <td>9</td>\n",
       "      <td>3.114187</td>\n",
       "    </tr>\n",
       "  </tbody>\n",
       "</table>\n",
       "</div>"
      ],
      "text/plain": [
       "  police_district  row_id        pct\n",
       "3         Mission      77  26.643599\n",
       "1         Central      47  16.262976\n",
       "7        Southern      45  15.570934\n",
       "4        Northern      31  10.726644\n",
       "9      Tenderloin      27   9.342561\n",
       "8         Taraval      17   5.882353\n",
       "2       Ingleside      14   4.844291\n",
       "5            Park      11   3.806228\n",
       "6        Richmond      11   3.806228\n",
       "0         Bayview       9   3.114187"
      ]
     },
     "execution_count": 21,
     "metadata": {},
     "output_type": "execute_result"
    }
   ],
   "source": [
    "total_drunk = drunk.row_id.count()\n",
    "pct_of_total = lambda grp: (grp.row_id / total_drunk) * 100\n",
    "pd_grouped['pct'] = pd_grouped.apply(pct_of_total, axis=1)\n",
    "pd_grouped"
   ]
  },
  {
   "cell_type": "markdown",
   "metadata": {},
   "source": [
    "**Finding #1** The Mission District accounts for more than a quarter of the city's drunkenness incidents in 2018. \n",
    "\n",
    "As part of a real story, we would need to do some follow-up reporting and analysis to explore the the context behind this finding. Does the Mission District top the list because it has the most bars? Are police simply enforcing this crime more in the district? What do the district's enforcement figures for this type of incident look like over time? A combination of factors could be at play, and the reporter's job is to apply his or her source reporting and data skills to get the story behind this figure."
   ]
  },
  {
   "cell_type": "markdown",
   "metadata": {},
   "source": [
    "Before moving onto the next part of our analysis, let's dip our toes into some basic charting. Below we select the police district and percentages from our grouped data and display a horizontal bar chart."
   ]
  },
  {
   "cell_type": "code",
   "execution_count": 22,
   "metadata": {},
   "outputs": [
    {
     "data": {
      "text/plain": [
       "<matplotlib.axes._subplots.AxesSubplot at 0x114e33128>"
      ]
     },
     "execution_count": 22,
     "metadata": {},
     "output_type": "execute_result"
    },
    {
     "data": {
      "image/png": "[encoded data removed]",
      "text/plain": [
       "<Figure size 432x288 with 1 Axes>"
      ]
     },
     "metadata": {
      "needs_background": "light"
     },
     "output_type": "display_data"
    }
   ],
   "source": [
    "pd_grouped[['police_district', 'pct']].plot.barh('police_district')"
   ]
  },
  {
   "cell_type": "markdown",
   "metadata": {},
   "source": [
    "## Drunkenness by day of week\n",
    "\n",
    "The next part of our analysis looks at drunkenness by day of week. We include the `daynum` field that we added to the dataframe earlier so that we can properly order the days."
   ]
  },
  {
   "cell_type": "code",
   "execution_count": 23,
   "metadata": {
    "scrolled": true
   },
   "outputs": [
    {
     "data": {
      "text/html": [
       "<div>\n",
       "<style scoped>\n",
       "    .dataframe tbody tr th:only-of-type {\n",
       "        vertical-align: middle;\n",
       "    }\n",
       "\n",
       "    .dataframe tbody tr th {\n",
       "        vertical-align: top;\n",
       "    }\n",
       "\n",
       "    .dataframe thead th {\n",
       "        text-align: right;\n",
       "    }\n",
       "</style>\n",
       "<table border=\"1\" class=\"dataframe\">\n",
       "  <thead>\n",
       "    <tr style=\"text-align: right;\">\n",
       "      <th></th>\n",
       "      <th>daynum</th>\n",
       "      <th>incident_day_of_week</th>\n",
       "      <th>row_id</th>\n",
       "    </tr>\n",
       "  </thead>\n",
       "  <tbody>\n",
       "    <tr>\n",
       "      <th>0</th>\n",
       "      <td>0</td>\n",
       "      <td>Monday</td>\n",
       "      <td>26</td>\n",
       "    </tr>\n",
       "    <tr>\n",
       "      <th>1</th>\n",
       "      <td>1</td>\n",
       "      <td>Tuesday</td>\n",
       "      <td>36</td>\n",
       "    </tr>\n",
       "    <tr>\n",
       "      <th>2</th>\n",
       "      <td>2</td>\n",
       "      <td>Wednesday</td>\n",
       "      <td>38</td>\n",
       "    </tr>\n",
       "    <tr>\n",
       "      <th>3</th>\n",
       "      <td>3</td>\n",
       "      <td>Thursday</td>\n",
       "      <td>38</td>\n",
       "    </tr>\n",
       "    <tr>\n",
       "      <th>4</th>\n",
       "      <td>4</td>\n",
       "      <td>Friday</td>\n",
       "      <td>43</td>\n",
       "    </tr>\n",
       "    <tr>\n",
       "      <th>5</th>\n",
       "      <td>5</td>\n",
       "      <td>Saturday</td>\n",
       "      <td>59</td>\n",
       "    </tr>\n",
       "    <tr>\n",
       "      <th>6</th>\n",
       "      <td>6</td>\n",
       "      <td>Sunday</td>\n",
       "      <td>49</td>\n",
       "    </tr>\n",
       "  </tbody>\n",
       "</table>\n",
       "</div>"
      ],
      "text/plain": [
       "   daynum incident_day_of_week  row_id\n",
       "0       0               Monday      26\n",
       "1       1              Tuesday      36\n",
       "2       2            Wednesday      38\n",
       "3       3             Thursday      38\n",
       "4       4               Friday      43\n",
       "5       5             Saturday      59\n",
       "6       6               Sunday      49"
      ]
     },
     "execution_count": 23,
     "metadata": {},
     "output_type": "execute_result"
    }
   ],
   "source": [
    "days_grped = drunk.groupby(by=[\"daynum\", \"incident_day_of_week\"]).row_id.count().reset_index().sort_values('daynum')\n",
    "days_grped"
   ]
  },
  {
   "cell_type": "code",
   "execution_count": 24,
   "metadata": {},
   "outputs": [
    {
     "data": {
      "text/plain": [
       "Text(0, 0.5, 'incident counts')"
      ]
     },
     "execution_count": 24,
     "metadata": {},
     "output_type": "execute_result"
    },
    {
     "data": {
      "image/png": "[encoded data removed]",
      "text/plain": [
       "<Figure size 432x288 with 1 Axes>"
      ]
     },
     "metadata": {
      "needs_background": "light"
     },
     "output_type": "display_data"
    }
   ],
   "source": [
    "days_grped[['incident_day_of_week', 'row_id']].plot.bar('incident_day_of_week').set_ylabel(\"incident counts\")"
   ]
  },
  {
   "cell_type": "markdown",
   "metadata": {},
   "source": [
    "**Finding #2** The most drunkenness incidents occurred on Saturday and Sunday, respectively. \n",
    "\n",
    "It's likely that the Sunday incidents occurred in the early morning hours. Further analysis of incident times could shed light on this, but let's move on to some more charting examples.\n",
    "\n",
    "### Charting Examples\n",
    "\n",
    "Python has a number of charting libraries, each with a different set of strengths. One of the oldest and still most popular libraries is [matplotlib](https://matplotlib.org/index.html), which offers fine-grained control over charting elements. [Altair](https://altair-viz.github.io/) and [Seaborn](https://seaborn.pydata.org/) are popular alternatives that simplify the work of creating visualizations, so you should definitely check these out as well.\n",
    "\n",
    "We'll stick with matplotlib for this tutorial. Below is a line chart that demonstrates a few of the many customization options offered by matplotlib."
   ]
  },
  {
   "cell_type": "code",
   "execution_count": 35,
   "metadata": {
    "scrolled": true
   },
   "outputs": [
    {
     "data": {
      "text/plain": [
       "Text(0, 0.5, 'Incident Counts')"
      ]
     },
     "execution_count": 35,
     "metadata": {},
     "output_type": "execute_result"
    },
    {
     "data": {
      "image/png": "[encoded data removed]",
      "text/plain": [
       "<Figure size 504x360 with 1 Axes>"
      ]
     },
     "metadata": {
      "needs_background": "light"
     },
     "output_type": "display_data"
    }
   ],
   "source": [
    "line_chart = days_grped.plot(\n",
    "    x='incident_day_of_week',\n",
    "    y='row_id', \n",
    "    title='Drunkenness Incidents by Day',\n",
    "    legend=False,\n",
    "    figsize=(7,5)\n",
    ")\n",
    "# Set the upper and lower bounds for the y-axis;\n",
    "# otherwise it defaults to lowest and highest values in the data\n",
    "line_chart.set_ylim(bottom=0, top=80) \n",
    "line_chart.set_xlabel(\"\") # Set x-axis label to blank \n",
    "line_chart.set_ylabel(\"Incident Counts\") "
   ]
  },
  {
   "cell_type": "markdown",
   "metadata": {},
   "source": [
    "And here's an example that puts a few chart variations side-by-side."
   ]
  },
  {
   "cell_type": "code",
   "execution_count": 26,
   "metadata": {},
   "outputs": [
    {
     "data": {
      "image/png": "[encoded data removed]",
      "text/plain": [
       "<Figure size 1728x576 with 3 Axes>"
      ]
     },
     "metadata": {
      "needs_background": "light"
     },
     "output_type": "display_data"
    }
   ],
   "source": [
    "import matplotlib.pyplot as plt\n",
    "kwargs = { 'xlabel': 'Day', 'ylabel': 'Incident Count'}\n",
    "plt.figure(1, figsize=(24, 8))\n",
    "\n",
    "plt.subplot(131, ylim=(0,70), **kwargs)\n",
    "plt.bar(days_grped.incident_day_of_week, days_grped.row_id)\n",
    "\n",
    "plt.subplot(132, ylim=(0,70), **kwargs)\n",
    "plt.scatter(days_grped.incident_day_of_week, days_grped.row_id)\n",
    "\n",
    "plt.subplot(133, ylim=(0,70), **kwargs)\n",
    "plt.plot(days_grped.incident_day_of_week, days_grped.row_id)\n",
    "\n",
    "plt.suptitle('Plotting Examples')\n",
    "plt.show()"
   ]
  },
  {
   "cell_type": "markdown",
   "metadata": {},
   "source": [
    "## Drunkenness by Month\n",
    "\n",
    "Finally let's take a look at the incidents broken down by month.\n",
    "\n",
    "**Finding #3** The most drunkenness incidents occurred in December. Follow-up reporting and analysis of incidents by day could help determine if New Year's festivities accounted for the higher number in this month.\n",
    "\n",
    "Below we use the [dt method](https://pandas.pydata.org/pandas-docs/stable/reference/api/pandas.Series.dt.html) on the `incident_date` column in order to grab the month number on the the datetime objects."
   ]
  },
  {
   "cell_type": "code",
   "execution_count": 36,
   "metadata": {},
   "outputs": [
    {
     "data": {
      "text/html": [
       "<div>\n",
       "<style scoped>\n",
       "    .dataframe tbody tr th:only-of-type {\n",
       "        vertical-align: middle;\n",
       "    }\n",
       "\n",
       "    .dataframe tbody tr th {\n",
       "        vertical-align: top;\n",
       "    }\n",
       "\n",
       "    .dataframe thead th {\n",
       "        text-align: right;\n",
       "    }\n",
       "</style>\n",
       "<table border=\"1\" class=\"dataframe\">\n",
       "  <thead>\n",
       "    <tr style=\"text-align: right;\">\n",
       "      <th></th>\n",
       "      <th>row_id</th>\n",
       "    </tr>\n",
       "    <tr>\n",
       "      <th>incident_date</th>\n",
       "      <th></th>\n",
       "    </tr>\n",
       "  </thead>\n",
       "  <tbody>\n",
       "    <tr>\n",
       "      <th>1</th>\n",
       "      <td>19</td>\n",
       "    </tr>\n",
       "    <tr>\n",
       "      <th>2</th>\n",
       "      <td>19</td>\n",
       "    </tr>\n",
       "    <tr>\n",
       "      <th>3</th>\n",
       "      <td>23</td>\n",
       "    </tr>\n",
       "    <tr>\n",
       "      <th>4</th>\n",
       "      <td>26</td>\n",
       "    </tr>\n",
       "    <tr>\n",
       "      <th>5</th>\n",
       "      <td>22</td>\n",
       "    </tr>\n",
       "    <tr>\n",
       "      <th>6</th>\n",
       "      <td>21</td>\n",
       "    </tr>\n",
       "    <tr>\n",
       "      <th>7</th>\n",
       "      <td>26</td>\n",
       "    </tr>\n",
       "    <tr>\n",
       "      <th>8</th>\n",
       "      <td>21</td>\n",
       "    </tr>\n",
       "    <tr>\n",
       "      <th>9</th>\n",
       "      <td>25</td>\n",
       "    </tr>\n",
       "    <tr>\n",
       "      <th>10</th>\n",
       "      <td>28</td>\n",
       "    </tr>\n",
       "    <tr>\n",
       "      <th>11</th>\n",
       "      <td>23</td>\n",
       "    </tr>\n",
       "    <tr>\n",
       "      <th>12</th>\n",
       "      <td>36</td>\n",
       "    </tr>\n",
       "  </tbody>\n",
       "</table>\n",
       "</div>"
      ],
      "text/plain": [
       "               row_id\n",
       "incident_date        \n",
       "1                  19\n",
       "2                  19\n",
       "3                  23\n",
       "4                  26\n",
       "5                  22\n",
       "6                  21\n",
       "7                  26\n",
       "8                  21\n",
       "9                  25\n",
       "10                 28\n",
       "11                 23\n",
       "12                 36"
      ]
     },
     "execution_count": 36,
     "metadata": {},
     "output_type": "execute_result"
    }
   ],
   "source": [
    "monthly = drunk[['row_id']].groupby(drunk['incident_date'].dt.month).count()\n",
    "monthly"
   ]
  },
  {
   "cell_type": "markdown",
   "metadata": {},
   "source": [
    "Finally, we chart the incidents by month, which more clearly shows December as the month with most incidents."
   ]
  },
  {
   "cell_type": "code",
   "execution_count": 34,
   "metadata": {},
   "outputs": [
    {
     "data": {
      "text/plain": [
       "<matplotlib.axes._subplots.AxesSubplot at 0x116d215f8>"
      ]
     },
     "execution_count": 34,
     "metadata": {},
     "output_type": "execute_result"
    },
    {
     "data": {
      "image/png": "[encoded data removed]",
      "text/plain": [
       "<Figure size 432x288 with 1 Axes>"
      ]
     },
     "metadata": {
      "needs_background": "light"
     },
     "output_type": "display_data"
    }
   ],
   "source": [
    "monthly.plot(kind=\"bar\")"
   ]
  },
  {
   "cell_type": "code",
   "execution_count": null,
   "metadata": {},
   "outputs": [],
   "source": []
  }
 ],
 "metadata": {
  "kernelspec": {
   "display_name": "Python 3",
   "language": "python",
   "name": "python3"
  },
  "language_info": {
   "codemirror_mode": {
    "name": "ipython",
    "version": 3
   },
   "file_extension": ".py",
   "mimetype": "text/x-python",
   "name": "python",
   "nbconvert_exporter": "python",
   "pygments_lexer": "ipython3",
   "version": "3.6.7"
  }
 },
 "nbformat": 4,
 "nbformat_minor": 2
}
