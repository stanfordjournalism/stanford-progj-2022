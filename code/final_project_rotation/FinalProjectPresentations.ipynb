{
 "cells": [
  {
   "cell_type": "code",
   "execution_count": 1,
   "id": "biblical-replication",
   "metadata": {},
   "outputs": [],
   "source": [
    "import random\n",
    "from IPython.display import display, HTML"
   ]
  },
  {
   "cell_type": "code",
   "execution_count": 2,
   "id": "usual-nowhere",
   "metadata": {},
   "outputs": [],
   "source": [
    "# Add students to presenters\n",
    "presenters = [\n",
    " 'Christine & Coco',\n",
    " 'Cody & Melissa',\n",
    " 'Irene',\n",
    " 'Kavish',\n",
    " 'Misato & Natasha'\n",
    "]\n",
    "random.shuffle(presenters)"
   ]
  },
  {
   "cell_type": "code",
   "execution_count": 4,
   "id": "2359e707-a2ce-4ec2-ad4c-9bda701366bd",
   "metadata": {},
   "outputs": [
    {
     "data": {
      "text/html": [
       "<h2>And the order is.....?</h2><ul><li><strong>Irene</strong></li><li><strong>Christine & Coco</strong></li><li><strong>Misato & Natasha</strong></li><li><strong>Cody & Melissa</strong></li><li><strong>Kavish</strong></li></ul>"
      ],
      "text/plain": [
       "<IPython.core.display.HTML object>"
      ]
     },
     "metadata": {},
     "output_type": "display_data"
    }
   ],
   "source": [
    "chart = '<h2>And the order is.....?</h2><ul>'\n",
    "for presenter in presenters:\n",
    "    chart += f'<li><strong>{presenter}</strong></li>'\n",
    "chart += '</ul>'\n",
    "display(HTML(chart))"
   ]
  },
  {
   "cell_type": "code",
   "execution_count": null,
   "id": "57fc6537-729b-493c-a553-fbaa998f5b36",
   "metadata": {},
   "outputs": [],
   "source": []
  }
 ],
 "metadata": {
  "kernelspec": {
   "display_name": "Python 3 (ipykernel)",
   "language": "python",
   "name": "python3"
  },
  "language_info": {
   "codemirror_mode": {
    "name": "ipython",
    "version": 3
   },
   "file_extension": ".py",
   "mimetype": "text/x-python",
   "name": "python",
   "nbconvert_exporter": "python",
   "pygments_lexer": "ipython3",
   "version": "3.8.4"
  }
 },
 "nbformat": 4,
 "nbformat_minor": 5
}
