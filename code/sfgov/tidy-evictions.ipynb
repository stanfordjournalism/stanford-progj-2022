{
 "cells": [
  {
   "cell_type": "markdown",
   "metadata": {},
   "source": [
    "# Tidy (Evictions) Data\n",
    "\n",
    "## Why tidy data?\n",
    "\n",
    "Tabular data comes in many shapes. Some are harder to work with than others due to how values and variables are organized in the form of rows and columns. \n",
    "\n",
    "An important part of the data journalist's job involves transforming data into a structure suitable for analysis. Here's a bit of background on the importance of \"tidy\" data from [Hadley Wickham](http://hadley.nz/), author of the [Tidy Data](https://cran.r-project.org/web/packages/tidyr/vignettes/tidy-data.html) standard and creator of many good things in the realm of data analysis:\n",
    "\n",
    "> The principles of tidy data provide a standard way to organise data values within a dataset. A standard makes initial data cleaning easier because you don’t need to start from scratch and reinvent the wheel every time. The tidy data standard has been designed to facilitate initial exploration and analysis of the data, and to simplify the development of data analysis tools that work well together.\n",
    "\n",
    "That all sounds well and good, but a bit theoretical. Let's tidy up some real-world data in pursuit of a story.\n",
    "\n",
    "\n",
    "## Meet the data\n",
    "\n",
    "This tutorial demonstrates how to tidy up one example of \"messy\" data: [eviction notices in San Francisco](https://data.sfgov.org/Housing-and-Buildings/Eviction-Notices/5cei-gny5). The data covers more than 20 years of eviction notices. The goal is to reshape this data into a form that lets us explore some basic journalistic questions:\n",
    "\n",
    "* What are the top reasons overall for evictions in San Francisco?\n",
    "* What patterns or trends can we discern for the top reasons over time?\n",
    "\n",
    "If we eyeball this data, we notice that it is \"wide.\" There are more than 29 columns, the majority of which represent individual causes for eviction. Some important details to note:\n",
    "\n",
    "* Each row reflects a single eviction notice.\n",
    "* A property owner can cite one or more reasons for seeking to evict a tenant.\n",
    "* Each reason column has a value of `TRUE` if the reason was cited, or `FALSE` if it was not.\n",
    "\n",
    "\n",
    "![evictions-data](img/evictions_data_example.png)\n",
    "\n",
    "## One flavor of messy\n",
    "\n",
    "The evictions data exemplifies one of several major types of messy data: [when column headers are values instead of variable names](https://cran.r-project.org/web/packages/tidyr/vignettes/tidy-data.html#column-headers-are-values-not-variable-names). What do we mean by this?\n",
    "\n",
    "Here's a bit of background from Tidy Data:\n",
    "\n",
    "> A common type of messy dataset is tabular data designed for presentation, where variables form both the rows and columns, and column headers are values, not variable names. While I would call this arrangement messy, in some cases it can be extremely useful. It provides efficient storage for completely crossed designs, and it can lead to extremely efficient computation if desired operations can be expressed as matrix operations.\n",
    "\n",
    "The evictions data fits this description nicely. It's well suited -- even optimized -- for presentation and use in certain tools and types of analysis. But to answer our questions, the data is not in optimal form.\n",
    "\n",
    "\n",
    "## Tidy evictions\n",
    "\n",
    "The reasons for eviction are currently column headers. If we want to count reasons for eviction (for all time and by year), we'll need to transform them into values under a single, standardized column. We'll call this column `eviction_reason`.\n",
    "\n",
    "Our end goal is to create one or more \"unpivoted\" data structures that enable us to more easily explore our questions. Here's an example of a tidy data structure that would make it easier to count and chart the reasons for eviction by year:\n",
    "\n",
    "![tidied-up-data-example](img/tidied_up_data_example.png)\n",
    "\n",
    "The above data structure is \"long\". It contains far fewer columns and many more rows than our original data set. Each row represents a unique combination of an `eviction_id`, `year`, cause for eviction, and whether it was cited. We'll ultimately filter this data to retain only the rows for cited reasons, to avoid over-counting.\n",
    "\n",
    "But the critical first step is to transform the data into this form. Once we've tidied up the data, it will be much easier to filter, group and chart."
   ]
  },
  {
   "cell_type": "markdown",
   "metadata": {},
   "source": [
    "## Import the data\n",
    "\n",
    "Let's import a locally stashed copy of the data and change the column names so that they're more user-friendly. Along the way, we'll convert the `File Date` field to a proper datetime, which will help downstream with data vetting and analysis."
   ]
  },
  {
   "cell_type": "code",
   "execution_count": 1,
   "metadata": {},
   "outputs": [],
   "source": [
    "import pandas as pd\n",
    "import altair as alt"
   ]
  },
  {
   "cell_type": "code",
   "execution_count": 2,
   "metadata": {},
   "outputs": [],
   "source": [
    "data = pd.read_csv('data/Eviction_Notices.csv', parse_dates=['File Date'], low_memory=False)\n",
    "data.rename(columns={col: col.lower().replace(' ', '_') for col in data.columns}, inplace=True)"
   ]
  },
  {
   "cell_type": "markdown",
   "metadata": {},
   "source": [
    "Take a gander at the columns. Notice the `file_date` is a datetime."
   ]
  },
  {
   "cell_type": "code",
   "execution_count": 3,
   "metadata": {},
   "outputs": [
    {
     "name": "stdout",
     "output_type": "stream",
     "text": [
      "<class 'pandas.core.frame.DataFrame'>\n",
      "RangeIndex: 40178 entries, 0 to 40177\n",
      "Data columns (total 29 columns):\n",
      " #   Column                               Non-Null Count  Dtype         \n",
      "---  ------                               --------------  -----         \n",
      " 0   eviction_id                          40178 non-null  object        \n",
      " 1   address                              40178 non-null  object        \n",
      " 2   city                                 40176 non-null  object        \n",
      " 3   state                                40176 non-null  object        \n",
      " 4   eviction_notice_source_zipcode       39495 non-null  object        \n",
      " 5   file_date                            40178 non-null  datetime64[ns]\n",
      " 6   non_payment                          40178 non-null  bool          \n",
      " 7   breach                               40178 non-null  bool          \n",
      " 8   nuisance                             40178 non-null  bool          \n",
      " 9   illegal_use                          40178 non-null  bool          \n",
      " 10  failure_to_sign_renewal              40178 non-null  bool          \n",
      " 11  access_denial                        40178 non-null  bool          \n",
      " 12  unapproved_subtenant                 40178 non-null  bool          \n",
      " 13  owner_move_in                        40178 non-null  bool          \n",
      " 14  demolition                           40178 non-null  bool          \n",
      " 15  capital_improvement                  40178 non-null  bool          \n",
      " 16  substantial_rehab                    40178 non-null  bool          \n",
      " 17  ellis_act_withdrawal                 40178 non-null  bool          \n",
      " 18  condo_conversion                     40178 non-null  bool          \n",
      " 19  roommate_same_unit                   40178 non-null  bool          \n",
      " 20  other_cause                          40178 non-null  bool          \n",
      " 21  late_payments                        40178 non-null  bool          \n",
      " 22  lead_remediation                     40178 non-null  bool          \n",
      " 23  development                          40178 non-null  bool          \n",
      " 24  good_samaritan_ends                  40178 non-null  bool          \n",
      " 25  constraints_date                     3998 non-null   object        \n",
      " 26  supervisor_district                  38769 non-null  float64       \n",
      " 27  neighborhoods_-_analysis_boundaries  38769 non-null  object        \n",
      " 28  location                             38781 non-null  object        \n",
      "dtypes: bool(19), datetime64[ns](1), float64(1), object(8)\n",
      "memory usage: 3.8+ MB\n"
     ]
    }
   ],
   "source": [
    "data.info()"
   ]
  },
  {
   "cell_type": "markdown",
   "metadata": {},
   "source": [
    "## Slim down the data\n",
    "\n",
    "Let's drop some of the fields that we don't plan to use for this particular analysis. \n",
    "\n",
    "> Note, there is likely a cleaner or more idiomatic way to do this, but we'll just go brute force for now."
   ]
  },
  {
   "cell_type": "code",
   "execution_count": 4,
   "metadata": {},
   "outputs": [],
   "source": [
    "to_drop = [\n",
    "    'constraints_date',\n",
    "    'address',\n",
    "    'city',\n",
    "    'state', \n",
    "    'eviction_notice_source_zipcode',\n",
    "    'constraints_date',\n",
    "    'supervisor_district',\n",
    "    'neighborhoods_-_analysis_boundaries',\n",
    "    'location'\n",
    "]\n",
    "subset = data.drop(to_drop, axis=1)"
   ]
  },
  {
   "cell_type": "markdown",
   "metadata": {},
   "source": [
    "## Add a year column\n",
    "\n",
    "Let's add a new `year` column, which will help us downstream when we count and chart the number of evictions by reason and year."
   ]
  },
  {
   "cell_type": "code",
   "execution_count": 5,
   "metadata": {},
   "outputs": [],
   "source": [
    "subset['year'] = subset.apply(lambda row: row.file_date.year, axis=1)"
   ]
  },
  {
   "cell_type": "markdown",
   "metadata": {},
   "source": [
    "## Remove partial year\n",
    "\n",
    "Let's filter out the 2019 data, since it's a partial year."
   ]
  },
  {
   "cell_type": "code",
   "execution_count": 6,
   "metadata": {},
   "outputs": [],
   "source": [
    "subset = subset[subset.file_date.dt.year < 2019]"
   ]
  },
  {
   "cell_type": "code",
   "execution_count": 7,
   "metadata": {},
   "outputs": [
    {
     "data": {
      "text/plain": [
       "count                   40084\n",
       "unique                   5442\n",
       "top       2012-08-16 00:00:00\n",
       "freq                      240\n",
       "first     1997-01-02 00:00:00\n",
       "last      2018-12-31 00:00:00\n",
       "Name: file_date, dtype: object"
      ]
     },
     "execution_count": 7,
     "metadata": {},
     "output_type": "execute_result"
    }
   ],
   "source": [
    "subset.file_date.describe()"
   ]
  },
  {
   "cell_type": "markdown",
   "metadata": {},
   "source": [
    "### Pro Tip: Filtering by date\n",
    "\n",
    "For the purposes of our analysis, we're focusing on the new `year` column, which we're using to filter out the partial year of data for 2019 and then for purposes of computing yearly counts of eviction causes. \n",
    "\n",
    "It's worth noting, however, that you can also filter the data set by the original `file_date` column, which is a `datetime` object. Below demonstrates how to filter the data for a particular date range."
   ]
  },
  {
   "cell_type": "code",
   "execution_count": 8,
   "metadata": {},
   "outputs": [],
   "source": [
    "from datetime import datetime\n",
    "# March 4 to 8 2017\n",
    "start = datetime(2017, 3, 4)\n",
    "end = datetime(2017, 3, 8)"
   ]
  },
  {
   "cell_type": "code",
   "execution_count": 9,
   "metadata": {},
   "outputs": [],
   "source": [
    "some_span_of_time = subset[(subset.file_date >= start) & (subset.file_date <= end)]"
   ]
  },
  {
   "cell_type": "code",
   "execution_count": 10,
   "metadata": {},
   "outputs": [
    {
     "data": {
      "text/html": [
       "<div>\n",
       "<style scoped>\n",
       "    .dataframe tbody tr th:only-of-type {\n",
       "        vertical-align: middle;\n",
       "    }\n",
       "\n",
       "    .dataframe tbody tr th {\n",
       "        vertical-align: top;\n",
       "    }\n",
       "\n",
       "    .dataframe thead th {\n",
       "        text-align: right;\n",
       "    }\n",
       "</style>\n",
       "<table border=\"1\" class=\"dataframe\">\n",
       "  <thead>\n",
       "    <tr style=\"text-align: right;\">\n",
       "      <th></th>\n",
       "      <th>eviction_id</th>\n",
       "      <th>file_date</th>\n",
       "      <th>non_payment</th>\n",
       "      <th>breach</th>\n",
       "      <th>nuisance</th>\n",
       "      <th>illegal_use</th>\n",
       "      <th>failure_to_sign_renewal</th>\n",
       "      <th>access_denial</th>\n",
       "      <th>unapproved_subtenant</th>\n",
       "      <th>owner_move_in</th>\n",
       "      <th>...</th>\n",
       "      <th>substantial_rehab</th>\n",
       "      <th>ellis_act_withdrawal</th>\n",
       "      <th>condo_conversion</th>\n",
       "      <th>roommate_same_unit</th>\n",
       "      <th>other_cause</th>\n",
       "      <th>late_payments</th>\n",
       "      <th>lead_remediation</th>\n",
       "      <th>development</th>\n",
       "      <th>good_samaritan_ends</th>\n",
       "      <th>year</th>\n",
       "    </tr>\n",
       "  </thead>\n",
       "  <tbody>\n",
       "    <tr>\n",
       "      <th>264</th>\n",
       "      <td>M170475</td>\n",
       "      <td>2017-03-06</td>\n",
       "      <td>False</td>\n",
       "      <td>False</td>\n",
       "      <td>True</td>\n",
       "      <td>False</td>\n",
       "      <td>False</td>\n",
       "      <td>False</td>\n",
       "      <td>False</td>\n",
       "      <td>False</td>\n",
       "      <td>...</td>\n",
       "      <td>False</td>\n",
       "      <td>False</td>\n",
       "      <td>False</td>\n",
       "      <td>False</td>\n",
       "      <td>False</td>\n",
       "      <td>False</td>\n",
       "      <td>False</td>\n",
       "      <td>False</td>\n",
       "      <td>False</td>\n",
       "      <td>2017</td>\n",
       "    </tr>\n",
       "    <tr>\n",
       "      <th>427</th>\n",
       "      <td>M170522</td>\n",
       "      <td>2017-03-07</td>\n",
       "      <td>False</td>\n",
       "      <td>False</td>\n",
       "      <td>False</td>\n",
       "      <td>False</td>\n",
       "      <td>False</td>\n",
       "      <td>False</td>\n",
       "      <td>False</td>\n",
       "      <td>True</td>\n",
       "      <td>...</td>\n",
       "      <td>False</td>\n",
       "      <td>False</td>\n",
       "      <td>False</td>\n",
       "      <td>False</td>\n",
       "      <td>False</td>\n",
       "      <td>False</td>\n",
       "      <td>False</td>\n",
       "      <td>False</td>\n",
       "      <td>False</td>\n",
       "      <td>2017</td>\n",
       "    </tr>\n",
       "    <tr>\n",
       "      <th>789</th>\n",
       "      <td>M170470</td>\n",
       "      <td>2017-03-06</td>\n",
       "      <td>False</td>\n",
       "      <td>True</td>\n",
       "      <td>False</td>\n",
       "      <td>False</td>\n",
       "      <td>False</td>\n",
       "      <td>False</td>\n",
       "      <td>False</td>\n",
       "      <td>False</td>\n",
       "      <td>...</td>\n",
       "      <td>False</td>\n",
       "      <td>False</td>\n",
       "      <td>False</td>\n",
       "      <td>False</td>\n",
       "      <td>False</td>\n",
       "      <td>False</td>\n",
       "      <td>False</td>\n",
       "      <td>False</td>\n",
       "      <td>False</td>\n",
       "      <td>2017</td>\n",
       "    </tr>\n",
       "  </tbody>\n",
       "</table>\n",
       "<p>3 rows × 22 columns</p>\n",
       "</div>"
      ],
      "text/plain": [
       "    eviction_id  file_date  non_payment  breach  nuisance  illegal_use  \\\n",
       "264     M170475 2017-03-06        False   False      True        False   \n",
       "427     M170522 2017-03-07        False   False     False        False   \n",
       "789     M170470 2017-03-06        False    True     False        False   \n",
       "\n",
       "     failure_to_sign_renewal  access_denial  unapproved_subtenant  \\\n",
       "264                    False          False                 False   \n",
       "427                    False          False                 False   \n",
       "789                    False          False                 False   \n",
       "\n",
       "     owner_move_in  ...  substantial_rehab  ellis_act_withdrawal  \\\n",
       "264          False  ...              False                 False   \n",
       "427           True  ...              False                 False   \n",
       "789          False  ...              False                 False   \n",
       "\n",
       "     condo_conversion  roommate_same_unit  other_cause  late_payments  \\\n",
       "264             False               False        False          False   \n",
       "427             False               False        False          False   \n",
       "789             False               False        False          False   \n",
       "\n",
       "     lead_remediation  development  good_samaritan_ends  year  \n",
       "264             False        False                False  2017  \n",
       "427             False        False                False  2017  \n",
       "789             False        False                False  2017  \n",
       "\n",
       "[3 rows x 22 columns]"
      ]
     },
     "execution_count": 10,
     "metadata": {},
     "output_type": "execute_result"
    }
   ],
   "source": [
    "some_span_of_time.file_date.describe()\n",
    "some_span_of_time.head(3)"
   ]
  },
  {
   "cell_type": "markdown",
   "metadata": {},
   "source": [
    "## Reshape the data\n",
    "\n",
    "We're now ready to \"melt\" or unpivot our data. This will reshape the data from a wide to long format. Each row in the new data set will reflect a unique combination of the:\n",
    "\n",
    "* eviction id\n",
    "* year of the filing date\n",
    "* reason for eviction\n",
    "* reason \"status\"\n",
    "\n",
    "This will include reasons that were not cited as a cause for eviction, as well as those that were cited.\n",
    "We'll need to remove reasons that were not cited in a subsequent step to avoid over-counting."
   ]
  },
  {
   "cell_type": "code",
   "execution_count": 11,
   "metadata": {},
   "outputs": [],
   "source": [
    "melted = subset.melt(id_vars=['eviction_id','year'], var_name='eviction_reason', value_name='status')"
   ]
  },
  {
   "cell_type": "markdown",
   "metadata": {},
   "source": [
    "## Filter reasons for eviction\n",
    "\n",
    "The `melted` DataFrame includes rows for each \"unpivoted\" column, whether the reason was cited or not. To get an accurate count of the reasons cited, we'll filter for all records where the `status` is `True`."
   ]
  },
  {
   "cell_type": "code",
   "execution_count": 12,
   "metadata": {},
   "outputs": [
    {
     "data": {
      "text/html": [
       "<div>\n",
       "<style scoped>\n",
       "    .dataframe tbody tr th:only-of-type {\n",
       "        vertical-align: middle;\n",
       "    }\n",
       "\n",
       "    .dataframe tbody tr th {\n",
       "        vertical-align: top;\n",
       "    }\n",
       "\n",
       "    .dataframe thead th {\n",
       "        text-align: right;\n",
       "    }\n",
       "</style>\n",
       "<table border=\"1\" class=\"dataframe\">\n",
       "  <thead>\n",
       "    <tr style=\"text-align: right;\">\n",
       "      <th></th>\n",
       "      <th>eviction_id</th>\n",
       "      <th>year</th>\n",
       "      <th>eviction_reason</th>\n",
       "      <th>status</th>\n",
       "    </tr>\n",
       "  </thead>\n",
       "  <tbody>\n",
       "    <tr>\n",
       "      <th>40118</th>\n",
       "      <td>M172567</td>\n",
       "      <td>2017</td>\n",
       "      <td>non_payment</td>\n",
       "      <td>True</td>\n",
       "    </tr>\n",
       "    <tr>\n",
       "      <th>40140</th>\n",
       "      <td>M172648</td>\n",
       "      <td>2017</td>\n",
       "      <td>non_payment</td>\n",
       "      <td>True</td>\n",
       "    </tr>\n",
       "    <tr>\n",
       "      <th>40144</th>\n",
       "      <td>M172566</td>\n",
       "      <td>2017</td>\n",
       "      <td>non_payment</td>\n",
       "      <td>True</td>\n",
       "    </tr>\n",
       "    <tr>\n",
       "      <th>40160</th>\n",
       "      <td>M172650</td>\n",
       "      <td>2017</td>\n",
       "      <td>non_payment</td>\n",
       "      <td>True</td>\n",
       "    </tr>\n",
       "    <tr>\n",
       "      <th>40182</th>\n",
       "      <td>M172555</td>\n",
       "      <td>2017</td>\n",
       "      <td>non_payment</td>\n",
       "      <td>True</td>\n",
       "    </tr>\n",
       "  </tbody>\n",
       "</table>\n",
       "</div>"
      ],
      "text/plain": [
       "      eviction_id  year eviction_reason status\n",
       "40118     M172567  2017     non_payment   True\n",
       "40140     M172648  2017     non_payment   True\n",
       "40144     M172566  2017     non_payment   True\n",
       "40160     M172650  2017     non_payment   True\n",
       "40182     M172555  2017     non_payment   True"
      ]
     },
     "execution_count": 12,
     "metadata": {},
     "output_type": "execute_result"
    }
   ],
   "source": [
    "filtered = melted[melted.status == True]\n",
    "filtered.head()"
   ]
  },
  {
   "cell_type": "markdown",
   "metadata": {},
   "source": [
    "## Top Reasons\n",
    "\n",
    "With our data unpivoted and filtered, let's move on to exploring our original questions. \n",
    "\n",
    "> We're gliding over much data vetting work at the moment. In a real-world project, much more time should be spent checking for missing/malformed values, duplicate records etc.\n",
    "\n",
    "Our first question involved counting the most cited reasons for eviction notices over all years in the data set. Let's perform a basic `groupby` operation and sort the result from highest to lowest.\n",
    "\n",
    "We should see that the top 3 reasons include \"owner_move_in\", \"breach\" (of contract, presumably), and \"nuisance.\""
   ]
  },
  {
   "cell_type": "code",
   "execution_count": 13,
   "metadata": {},
   "outputs": [
    {
     "data": {
      "text/html": [
       "<div>\n",
       "<style scoped>\n",
       "    .dataframe tbody tr th:only-of-type {\n",
       "        vertical-align: middle;\n",
       "    }\n",
       "\n",
       "    .dataframe tbody tr th {\n",
       "        vertical-align: top;\n",
       "    }\n",
       "\n",
       "    .dataframe thead th {\n",
       "        text-align: right;\n",
       "    }\n",
       "</style>\n",
       "<table border=\"1\" class=\"dataframe\">\n",
       "  <thead>\n",
       "    <tr style=\"text-align: right;\">\n",
       "      <th></th>\n",
       "      <th>eviction_reason</th>\n",
       "      <th>eviction_id</th>\n",
       "    </tr>\n",
       "  </thead>\n",
       "  <tbody>\n",
       "    <tr>\n",
       "      <th>15</th>\n",
       "      <td>owner_move_in</td>\n",
       "      <td>10034</td>\n",
       "    </tr>\n",
       "    <tr>\n",
       "      <th>1</th>\n",
       "      <td>breach</td>\n",
       "      <td>8950</td>\n",
       "    </tr>\n",
       "    <tr>\n",
       "      <th>13</th>\n",
       "      <td>nuisance</td>\n",
       "      <td>6635</td>\n",
       "    </tr>\n",
       "    <tr>\n",
       "      <th>6</th>\n",
       "      <td>ellis_act_withdrawal</td>\n",
       "      <td>3859</td>\n",
       "    </tr>\n",
       "    <tr>\n",
       "      <th>12</th>\n",
       "      <td>non_payment</td>\n",
       "      <td>2387</td>\n",
       "    </tr>\n",
       "    <tr>\n",
       "      <th>10</th>\n",
       "      <td>late_payments</td>\n",
       "      <td>1634</td>\n",
       "    </tr>\n",
       "    <tr>\n",
       "      <th>2</th>\n",
       "      <td>capital_improvement</td>\n",
       "      <td>1539</td>\n",
       "    </tr>\n",
       "    <tr>\n",
       "      <th>14</th>\n",
       "      <td>other_cause</td>\n",
       "      <td>1364</td>\n",
       "    </tr>\n",
       "    <tr>\n",
       "      <th>16</th>\n",
       "      <td>roommate_same_unit</td>\n",
       "      <td>1343</td>\n",
       "    </tr>\n",
       "    <tr>\n",
       "      <th>4</th>\n",
       "      <td>demolition</td>\n",
       "      <td>1156</td>\n",
       "    </tr>\n",
       "  </tbody>\n",
       "</table>\n",
       "</div>"
      ],
      "text/plain": [
       "         eviction_reason  eviction_id\n",
       "15         owner_move_in        10034\n",
       "1                 breach         8950\n",
       "13              nuisance         6635\n",
       "6   ellis_act_withdrawal         3859\n",
       "12           non_payment         2387\n",
       "10         late_payments         1634\n",
       "2    capital_improvement         1539\n",
       "14           other_cause         1364\n",
       "16    roommate_same_unit         1343\n",
       "4             demolition         1156"
      ]
     },
     "execution_count": 13,
     "metadata": {},
     "output_type": "execute_result"
    }
   ],
   "source": [
    "# Select the eviction reason and ID columns\n",
    "# Peform a groupby that counts the IDs\n",
    "# Sort from highest to lowest\n",
    "filtered[['eviction_reason','eviction_id']].groupby(\n",
    "    'eviction_reason', as_index=False\n",
    ").count().sort_values('eviction_id' , ascending=False).head(10)"
   ]
  },
  {
   "cell_type": "markdown",
   "metadata": {},
   "source": [
    "## Top Reasons Over Time\n",
    "\n",
    "We've identified the top reasons for evictions for the full history of data. This is a good aggregate view of the data. But have these always been the leading reasons for eviction? Let's chart the top 3 to see if we find any patterns worthy of further analysis and reporting.\n",
    "\n",
    "Our first step will involve counting the number of times each reason was cited for a given year. It's quite possible (and likely) that certain reasons will not have a count in every year, especially if we widen the analysis to include less-cited reasons such as \"lead_remediation\". \n",
    "\n",
    "Our analysis and visualization should reveal any missing years, so let's move forward."
   ]
  },
  {
   "cell_type": "code",
   "execution_count": 14,
   "metadata": {},
   "outputs": [
    {
     "data": {
      "text/html": [
       "<div>\n",
       "<style scoped>\n",
       "    .dataframe tbody tr th:only-of-type {\n",
       "        vertical-align: middle;\n",
       "    }\n",
       "\n",
       "    .dataframe tbody tr th {\n",
       "        vertical-align: top;\n",
       "    }\n",
       "\n",
       "    .dataframe thead th {\n",
       "        text-align: right;\n",
       "    }\n",
       "</style>\n",
       "<table border=\"1\" class=\"dataframe\">\n",
       "  <thead>\n",
       "    <tr style=\"text-align: right;\">\n",
       "      <th></th>\n",
       "      <th>eviction_reason</th>\n",
       "      <th>year</th>\n",
       "      <th>eviction_id</th>\n",
       "    </tr>\n",
       "  </thead>\n",
       "  <tbody>\n",
       "    <tr>\n",
       "      <th>0</th>\n",
       "      <td>access_denial</td>\n",
       "      <td>1997</td>\n",
       "      <td>13</td>\n",
       "    </tr>\n",
       "    <tr>\n",
       "      <th>1</th>\n",
       "      <td>access_denial</td>\n",
       "      <td>1998</td>\n",
       "      <td>12</td>\n",
       "    </tr>\n",
       "    <tr>\n",
       "      <th>2</th>\n",
       "      <td>access_denial</td>\n",
       "      <td>1999</td>\n",
       "      <td>11</td>\n",
       "    </tr>\n",
       "    <tr>\n",
       "      <th>3</th>\n",
       "      <td>access_denial</td>\n",
       "      <td>2000</td>\n",
       "      <td>13</td>\n",
       "    </tr>\n",
       "    <tr>\n",
       "      <th>4</th>\n",
       "      <td>access_denial</td>\n",
       "      <td>2001</td>\n",
       "      <td>9</td>\n",
       "    </tr>\n",
       "  </tbody>\n",
       "</table>\n",
       "</div>"
      ],
      "text/plain": [
       "  eviction_reason  year  eviction_id\n",
       "0   access_denial  1997           13\n",
       "1   access_denial  1998           12\n",
       "2   access_denial  1999           11\n",
       "3   access_denial  2000           13\n",
       "4   access_denial  2001            9"
      ]
     },
     "execution_count": 14,
     "metadata": {},
     "output_type": "execute_result"
    }
   ],
   "source": [
    "target_vars = ['eviction_reason', 'year']\n",
    "grouped = filtered.groupby(by=target_vars, as_index=False).eviction_id.count().sort_values(target_vars)\n",
    "grouped.head()"
   ]
  },
  {
   "cell_type": "markdown",
   "metadata": {},
   "source": [
    "### Filter\n",
    "\n",
    "Let's filter the grouped data for the top 3 reasons."
   ]
  },
  {
   "cell_type": "code",
   "execution_count": 15,
   "metadata": {},
   "outputs": [],
   "source": [
    "top3 = grouped[grouped.eviction_reason.isin(['owner_move_in', 'breach', 'nuisance'])]"
   ]
  },
  {
   "cell_type": "markdown",
   "metadata": {},
   "source": [
    "### Chart\n",
    "\n",
    "Lastly, we'll chart the data with a few minor customizations.\n",
    "\n",
    "We'll use a few altair features to clean up our chart and make it more digestible."
   ]
  },
  {
   "cell_type": "code",
   "execution_count": 16,
   "metadata": {},
   "outputs": [
    {
     "data": {
      "text/html": [
       "\n",
       "<div id=\"altair-viz-fc7c96cc717b49028f7366c72ee32ba2\"></div>\n",
       "<script type=\"text/javascript\">\n",
       "  (function(spec, embedOpt){\n",
       "    const outputDiv = document.getElementById(\"altair-viz-fc7c96cc717b49028f7366c72ee32ba2\");\n",
       "    const paths = {\n",
       "      \"vega\": \"https://cdn.jsdelivr.net/npm//vega@5?noext\",\n",
       "      \"vega-lib\": \"https://cdn.jsdelivr.net/npm//vega-lib?noext\",\n",
       "      \"vega-lite\": \"https://cdn.jsdelivr.net/npm//vega-lite@4.0.2?noext\",\n",
       "      \"vega-embed\": \"https://cdn.jsdelivr.net/npm//vega-embed@6?noext\",\n",
       "    };\n",
       "\n",
       "    function loadScript(lib) {\n",
       "      return new Promise(function(resolve, reject) {\n",
       "        var s = document.createElement('script');\n",
       "        s.src = paths[lib];\n",
       "        s.async = true;\n",
       "        s.onload = () => resolve(paths[lib]);\n",
       "        s.onerror = () => reject(`Error loading script: ${paths[lib]}`);\n",
       "        document.getElementsByTagName(\"head\")[0].appendChild(s);\n",
       "      });\n",
       "    }\n",
       "\n",
       "    function showError(err) {\n",
       "      outputDiv.innerHTML = `<div class=\"error\" style=\"color:red;\">${err}</div>`;\n",
       "      throw err;\n",
       "    }\n",
       "\n",
       "    function displayChart(vegaEmbed) {\n",
       "      vegaEmbed(outputDiv, spec, embedOpt)\n",
       "        .catch(err => showError(`Javascript Error: ${err.message}<br>This usually means there's a typo in your chart specification. See the javascript console for the full traceback.`));\n",
       "    }\n",
       "\n",
       "    if(typeof define === \"function\" && define.amd) {\n",
       "      requirejs.config({paths});\n",
       "      require([\"vega-embed\"], displayChart, err => showError(`Error loading script: ${err.message}`));\n",
       "    } else if (typeof vegaEmbed === \"function\") {\n",
       "      displayChart(vegaEmbed);\n",
       "    } else {\n",
       "      loadScript(\"vega\")\n",
       "        .then(() => loadScript(\"vega-lite\"))\n",
       "        .then(() => loadScript(\"vega-embed\"))\n",
       "        .catch(showError)\n",
       "        .then(() => displayChart(vegaEmbed));\n",
       "    }\n",
       "  })({\"config\": {\"view\": {\"continuousWidth\": 400, \"continuousHeight\": 300}, \"axis\": {\"grid\": true}}, \"data\": {\"name\": \"data-0ca0a7b5f152023ad085c8a25a54fb5c\"}, \"mark\": \"line\", \"encoding\": {\"color\": {\"type\": \"nominal\", \"field\": \"eviction_reason\"}, \"x\": {\"type\": \"ordinal\", \"field\": \"year\", \"title\": \"Year\"}, \"y\": {\"type\": \"quantitative\", \"field\": \"eviction_id\", \"title\": \"Number of times cited\"}}, \"$schema\": \"https://vega.github.io/schema/vega-lite/v4.0.2.json\", \"datasets\": {\"data-0ca0a7b5f152023ad085c8a25a54fb5c\": [{\"eviction_reason\": \"breach\", \"year\": 1997, \"eviction_id\": 345}, {\"eviction_reason\": \"breach\", \"year\": 1998, \"eviction_id\": 321}, {\"eviction_reason\": \"breach\", \"year\": 1999, \"eviction_id\": 316}, {\"eviction_reason\": \"breach\", \"year\": 2000, \"eviction_id\": 382}, {\"eviction_reason\": \"breach\", \"year\": 2001, \"eviction_id\": 387}, {\"eviction_reason\": \"breach\", \"year\": 2002, \"eviction_id\": 253}, {\"eviction_reason\": \"breach\", \"year\": 2003, \"eviction_id\": 285}, {\"eviction_reason\": \"breach\", \"year\": 2004, \"eviction_id\": 212}, {\"eviction_reason\": \"breach\", \"year\": 2005, \"eviction_id\": 293}, {\"eviction_reason\": \"breach\", \"year\": 2006, \"eviction_id\": 280}, {\"eviction_reason\": \"breach\", \"year\": 2007, \"eviction_id\": 377}, {\"eviction_reason\": \"breach\", \"year\": 2008, \"eviction_id\": 378}, {\"eviction_reason\": \"breach\", \"year\": 2009, \"eviction_id\": 411}, {\"eviction_reason\": \"breach\", \"year\": 2010, \"eviction_id\": 448}, {\"eviction_reason\": \"breach\", \"year\": 2011, \"eviction_id\": 536}, {\"eviction_reason\": \"breach\", \"year\": 2012, \"eviction_id\": 445}, {\"eviction_reason\": \"breach\", \"year\": 2013, \"eviction_id\": 598}, {\"eviction_reason\": \"breach\", \"year\": 2014, \"eviction_id\": 726}, {\"eviction_reason\": \"breach\", \"year\": 2015, \"eviction_id\": 661}, {\"eviction_reason\": \"breach\", \"year\": 2016, \"eviction_id\": 449}, {\"eviction_reason\": \"breach\", \"year\": 2017, \"eviction_id\": 404}, {\"eviction_reason\": \"breach\", \"year\": 2018, \"eviction_id\": 443}, {\"eviction_reason\": \"nuisance\", \"year\": 1997, \"eviction_id\": 267}, {\"eviction_reason\": \"nuisance\", \"year\": 1998, \"eviction_id\": 249}, {\"eviction_reason\": \"nuisance\", \"year\": 1999, \"eviction_id\": 256}, {\"eviction_reason\": \"nuisance\", \"year\": 2000, \"eviction_id\": 274}, {\"eviction_reason\": \"nuisance\", \"year\": 2001, \"eviction_id\": 267}, {\"eviction_reason\": \"nuisance\", \"year\": 2002, \"eviction_id\": 255}, {\"eviction_reason\": \"nuisance\", \"year\": 2003, \"eviction_id\": 285}, {\"eviction_reason\": \"nuisance\", \"year\": 2004, \"eviction_id\": 234}, {\"eviction_reason\": \"nuisance\", \"year\": 2005, \"eviction_id\": 336}, {\"eviction_reason\": \"nuisance\", \"year\": 2006, \"eviction_id\": 288}, {\"eviction_reason\": \"nuisance\", \"year\": 2007, \"eviction_id\": 323}, {\"eviction_reason\": \"nuisance\", \"year\": 2008, \"eviction_id\": 324}, {\"eviction_reason\": \"nuisance\", \"year\": 2009, \"eviction_id\": 260}, {\"eviction_reason\": \"nuisance\", \"year\": 2010, \"eviction_id\": 295}, {\"eviction_reason\": \"nuisance\", \"year\": 2011, \"eviction_id\": 246}, {\"eviction_reason\": \"nuisance\", \"year\": 2012, \"eviction_id\": 338}, {\"eviction_reason\": \"nuisance\", \"year\": 2013, \"eviction_id\": 359}, {\"eviction_reason\": \"nuisance\", \"year\": 2014, \"eviction_id\": 400}, {\"eviction_reason\": \"nuisance\", \"year\": 2015, \"eviction_id\": 362}, {\"eviction_reason\": \"nuisance\", \"year\": 2016, \"eviction_id\": 376}, {\"eviction_reason\": \"nuisance\", \"year\": 2017, \"eviction_id\": 316}, {\"eviction_reason\": \"nuisance\", \"year\": 2018, \"eviction_id\": 325}, {\"eviction_reason\": \"owner_move_in\", \"year\": 1997, \"eviction_id\": 1224}, {\"eviction_reason\": \"owner_move_in\", \"year\": 1998, \"eviction_id\": 1536}, {\"eviction_reason\": \"owner_move_in\", \"year\": 1999, \"eviction_id\": 872}, {\"eviction_reason\": \"owner_move_in\", \"year\": 2000, \"eviction_id\": 1011}, {\"eviction_reason\": \"owner_move_in\", \"year\": 2001, \"eviction_id\": 802}, {\"eviction_reason\": \"owner_move_in\", \"year\": 2002, \"eviction_id\": 547}, {\"eviction_reason\": \"owner_move_in\", \"year\": 2003, \"eviction_id\": 358}, {\"eviction_reason\": \"owner_move_in\", \"year\": 2004, \"eviction_id\": 346}, {\"eviction_reason\": \"owner_move_in\", \"year\": 2005, \"eviction_id\": 266}, {\"eviction_reason\": \"owner_move_in\", \"year\": 2006, \"eviction_id\": 227}, {\"eviction_reason\": \"owner_move_in\", \"year\": 2007, \"eviction_id\": 181}, {\"eviction_reason\": \"owner_move_in\", \"year\": 2008, \"eviction_id\": 169}, {\"eviction_reason\": \"owner_move_in\", \"year\": 2009, \"eviction_id\": 120}, {\"eviction_reason\": \"owner_move_in\", \"year\": 2010, \"eviction_id\": 127}, {\"eviction_reason\": \"owner_move_in\", \"year\": 2011, \"eviction_id\": 124}, {\"eviction_reason\": \"owner_move_in\", \"year\": 2012, \"eviction_id\": 174}, {\"eviction_reason\": \"owner_move_in\", \"year\": 2013, \"eviction_id\": 275}, {\"eviction_reason\": \"owner_move_in\", \"year\": 2014, \"eviction_id\": 318}, {\"eviction_reason\": \"owner_move_in\", \"year\": 2015, \"eviction_id\": 425}, {\"eviction_reason\": \"owner_move_in\", \"year\": 2016, \"eviction_id\": 398}, {\"eviction_reason\": \"owner_move_in\", \"year\": 2017, \"eviction_id\": 314}, {\"eviction_reason\": \"owner_move_in\", \"year\": 2018, \"eviction_id\": 220}]}}, {\"mode\": \"vega-lite\"});\n",
       "</script>"
      ],
      "text/plain": [
       "alt.Chart(...)"
      ]
     },
     "execution_count": 16,
     "metadata": {},
     "output_type": "execute_result"
    }
   ],
   "source": [
    "alt.Chart(top3).mark_line().encode(\n",
    "    x=alt.X('year:O',  title='Year', ),\n",
    "    y=alt.Y('eviction_id', title='Number of times cited'),\n",
    "    color='eviction_reason'\n",
    ").configure_axis(grid=True)"
   ]
  },
  {
   "cell_type": "markdown",
   "metadata": {},
   "source": [
    "## Tidy is good, but not good enough\n",
    "\n",
    "The trend lines above show that \"owner move-ins\" plummeted since the late 1990s, whereas \"breach\" and \"nuisance\" have increased in fits and starts, peaking around 2014 and leveling off in 2018.\n",
    "\n",
    "Tidy data helped explore our original questions, but are these findings reliable? In particular, is the steep decline in \"owner move-ins\" a real pattern or a data anomaly? Perhaps the city database allowed just one reason for eviction to be flagged in the early years, and harried government employees left the \"owner move-in\" option checked by default, clicked `Enter`, and moved on to more important matters...\n",
    "\n",
    "Before publishing conclusions from this analysis, we should consult agency sources for context. We should ask experts to verify our methodology and findings. We should seek out government reports, news stories, and academic research that have tread similar ground. We should find someone -- perhaps a teammate or industry colleague -- to replicate or review our analysis.\n",
    "\n",
    "Data journalism is an iterative process. It often requires multiple rounds of technical work and reporting. Questioning our process and findings along the way is the surest path to \"getting it right.\""
   ]
  }
 ],
 "metadata": {
  "kernelspec": {
   "display_name": "Python 3",
   "language": "python",
   "name": "python3"
  },
  "language_info": {
   "codemirror_mode": {
    "name": "ipython",
    "version": 3
   },
   "file_extension": ".py",
   "mimetype": "text/x-python",
   "name": "python",
   "nbconvert_exporter": "python",
   "pygments_lexer": "ipython3",
   "version": "3.6.11"
  }
 },
 "nbformat": 4,
 "nbformat_minor": 4
}
